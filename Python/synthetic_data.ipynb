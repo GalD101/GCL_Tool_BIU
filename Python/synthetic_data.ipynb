{
 "cells": [
  {
   "metadata": {},
   "cell_type": "markdown",
   "source": "# Michaelis-Menten kinetics dynamics",
   "id": "606586832fe3295a"
  },
  {
   "metadata": {},
   "cell_type": "markdown",
   "source": "### The Michaelis-Menten kinetics is given by the following system of (coupled) ordinary differential equations (ODEs):",
   "id": "fa73b03aeea0e5f9"
  },
  {
   "metadata": {},
   "cell_type": "markdown",
   "source": [
    "$$\n",
    "\\dot{x}^{(\\nu)}_i = -x^{(\\nu)}_i + \\sum_j w_{i,j} \\cdot \\frac{x^{(\\nu)}_j}{1 + x^{(\\nu)}_j}, \\quad i, j \\in \\{1, \\dots, N\\}\n",
    "$$"
   ],
   "id": "2a54afd56cd70a3b"
  },
  {
   "metadata": {
    "ExecuteTime": {
     "end_time": "2024-08-28T16:32:41.550039Z",
     "start_time": "2024-08-28T16:32:41.541780Z"
    }
   },
   "cell_type": "code",
   "source": [
    "import numpy as np\n",
    "import matplotlib.pyplot as plt\n",
    "from scipy.integrate import odeint  # Import the odeint function from scipy for solving ODEs\n",
    "from scipy.integrate import solve_ivp  # Import the solve_ivp function from scipy for solving ODEs\n",
    "import random"
   ],
   "id": "920c9329959f5ef1",
   "outputs": [],
   "execution_count": 260
  },
  {
   "metadata": {
    "ExecuteTime": {
     "end_time": "2024-08-28T16:32:41.598628Z",
     "start_time": "2024-08-28T16:32:41.588415Z"
    }
   },
   "cell_type": "code",
   "source": [
    "# Set up the system of ODEs\n",
    "def ode_system(x, t, W):  # t must be passed even if not used\n",
    "    N = len(x)  # Get the number of elements in the state vector\n",
    "    derivative_vector = np.zeros(N)  # Initialize the derivative vector (set zeros as default)\n",
    "    for i in range(N):  # Loop over each element in the state vector\n",
    "        # Compute the sum term for the i-th element according to the formula given in the paper\n",
    "        sum_term = sum(W[i, j] * (x[j] / (1 + x[j])) for j in range(N) if j != i)  # list comprehension\n",
    "        derivative_vector[i] = -x[i] + sum_term\n",
    "    return derivative_vector"
   ],
   "id": "616957f5a27865b2",
   "outputs": [],
   "execution_count": 261
  },
  {
   "metadata": {
    "ExecuteTime": {
     "end_time": "2024-08-28T16:32:41.642317Z",
     "start_time": "2024-08-28T16:32:41.619834Z"
    }
   },
   "cell_type": "code",
   "source": [
    "# Initialize parameters\n",
    "N = 200  # Set the number of elements in the state vector\n",
    "\n",
    "# Create a random initial state vector with values between 0 and 1;\n",
    "# this is our synthetic data - just randomized data since this way we don't assume anything about the data\n",
    "vector = np.random.rand(N)\n",
    "\n",
    "# dist will return true with probability p\n",
    "dist = lambda p: random.random() < p\n",
    "avg_deg = 3  # Average degree of the whole network\n",
    "W = np.zeros((N, N))  # Initialize the weight matrix with zeros\n",
    "q = 1\n",
    "for i in range(N):\n",
    "    W[i] = [np.random.uniform(0, 2 * q) if (i != j and dist(avg_deg / N - 1)) else 0 for j in range(N)]\n",
    "\n",
    "# Set up the time points for the simulation\n",
    "t = np.linspace(0, 10, 1000)"
   ],
   "id": "912aa43d87aff4c6",
   "outputs": [],
   "execution_count": 262
  },
  {
   "metadata": {
    "jupyter": {
     "is_executing": true
    },
    "ExecuteTime": {
     "start_time": "2024-08-28T16:32:41.642317Z"
    }
   },
   "cell_type": "code",
   "source": [
    "# Run the simulation using the odeint function\n",
    "result = odeint(ode_system, vector, t, args=(W,))"
   ],
   "id": "cfce80aab9beb059",
   "outputs": [],
   "execution_count": null
  },
  {
   "metadata": {
    "jupyter": {
     "is_executing": true
    }
   },
   "cell_type": "code",
   "source": [
    "# Plot the results\n",
    "for i in range(N):\n",
    "    plt.plot(t, result[:, i])\n",
    "plt.xlabel('Time')\n",
    "plt.ylabel('x value')\n",
    "plt.title('Michaelis-Menten kinetics')\n",
    "plt.show()"
   ],
   "id": "e448adc2e13f3d53",
   "outputs": [],
   "execution_count": null
  }
 ],
 "metadata": {
  "kernelspec": {
   "display_name": "Python 3",
   "language": "python",
   "name": "python3"
  },
  "language_info": {
   "codemirror_mode": {
    "name": "ipython",
    "version": 2
   },
   "file_extension": ".py",
   "mimetype": "text/x-python",
   "name": "python",
   "nbconvert_exporter": "python",
   "pygments_lexer": "ipython2",
   "version": "2.7.6"
  }
 },
 "nbformat": 4,
 "nbformat_minor": 5
}
