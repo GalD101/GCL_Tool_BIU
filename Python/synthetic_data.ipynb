{
 "cells": [
  {
   "metadata": {},
   "cell_type": "markdown",
   "source": "# Michaelis-Menten kinetics dynamics",
   "id": "606586832fe3295a"
  },
  {
   "metadata": {},
   "cell_type": "markdown",
   "source": "### The Michaelis-Menten kinetics is given by the following system of (coupled) ordinary differential equations (ODEs):",
   "id": "fa73b03aeea0e5f9"
  },
  {
   "metadata": {},
   "cell_type": "markdown",
   "source": [
    "$$\n",
    "\\dot{x}^{(\\nu)}_i = -x^{(\\nu)}_i + \\sum_j w_{i,j} \\cdot \\frac{x^{(\\nu)}_j}{1 + x^{(\\nu)}_j}, \\quad i, j \\in \\{1, \\dots, N\\}\n",
    "$$"
   ],
   "id": "2a54afd56cd70a3b"
  },
  {
   "metadata": {
    "ExecuteTime": {
     "end_time": "2024-09-11T15:59:02.567365Z",
     "start_time": "2024-09-11T15:59:02.559155Z"
    }
   },
   "cell_type": "code",
   "source": [
    "import numpy as np\n",
    "import matplotlib.pyplot as plt\n",
    "from scipy.integrate import odeint  # Import the odeint function from scipy for solving ODEs\n",
    "from scipy.integrate import solve_ivp  # Import the solve_ivp function from scipy for solving ODEs\n",
    "import random"
   ],
   "id": "920c9329959f5ef1",
   "outputs": [],
   "execution_count": 85
  },
  {
   "metadata": {
    "ExecuteTime": {
     "end_time": "2024-09-11T15:59:02.701402Z",
     "start_time": "2024-09-11T15:59:02.687086Z"
    }
   },
   "cell_type": "code",
   "source": [
    "# Set up the system of ODEs\n",
    "def ode_system(x, t, W):  # t must be passed even if not used\n",
    "    N = len(x)  # Get the number of elements in the state vector\n",
    "    derivative_vector = np.zeros(N)  # Initialize the derivative vector (set zeros as default)\n",
    "    for i in range(N):  # Loop over each element in the state vector\n",
    "        # Compute the sum term for the i-th element according to the formula given in the paper\n",
    "        sum_term = sum(W[i, j] * (x[j] / (1 + x[j])) for j in range(N) if j != i)  # list comprehension\n",
    "        derivative_vector[i] = -x[i] + sum_term\n",
    "    return derivative_vector"
   ],
   "id": "616957f5a27865b2",
   "outputs": [],
   "execution_count": 86
  },
  {
   "metadata": {
    "ExecuteTime": {
     "end_time": "2024-09-11T15:59:02.724550Z",
     "start_time": "2024-09-11T15:59:02.701402Z"
    }
   },
   "cell_type": "code",
   "source": [
    "# Initialize parameters\n",
    "N = 100  # Number of genes in a cell\n",
    "avg_deg = 3\n",
    "M = 50  # Number of \"defects\" of the matrix W\n",
    "W = [np.zeros((N, N)) for _ in range(M)]  # Initialize the weight matrix with zeros; W[defect number, row, column]\n",
    "\n",
    "initial_conditions = [np.random.rand(N) for _ in range(N)]\n",
    "\n",
    "dist = lambda p: random.random() < p\n",
    "q = 1  # Affects the range of the random numbers generated\n",
    "p = 1 / M  # Probability to change the non-zero elements in w (defect the weight matrix)\n",
    "\n",
    "num_of_time_stamps = 1000\n",
    "t_final = 10\n",
    "t = np.linspace(0, t_final, num_of_time_stamps)\n",
    "\n",
    "# TODO: Figure out how to make the odeint function stop when the system reaches a steady state or after a certain time period"
   ],
   "id": "912aa43d87aff4c6",
   "outputs": [],
   "execution_count": 87
  },
  {
   "metadata": {
    "ExecuteTime": {
     "end_time": "2024-09-11T15:59:03.405987Z",
     "start_time": "2024-09-11T15:59:02.748020Z"
    }
   },
   "cell_type": "code",
   "source": [
    "# Set the base weight matrix\n",
    "for i in range(N):\n",
    "    # TODO: this is weird since I defined avg_deg as the average degree but I use it as probability (actual average might be different)\n",
    "    W[0][i] = [np.random.uniform(0, 2 * q) if (i != j and dist(avg_deg / (N - 1))) else 0 for j in range(N)]\n",
    "\n",
    "# Create defects of the weight matrix\n",
    "base_model = W[0]\n",
    "for m in range(M):\n",
    "    for i in range(N):\n",
    "        for j in range(N):\n",
    "            if base_model[i, j] != 0:\n",
    "                # Change the value with probability p*(m + 1) (higher probability for higher m) \n",
    "                W[m][i, j] = np.random.uniform(0, 2 * q) if dist(p * (m + 1)) else base_model[i, j]\n",
    "            else:\n",
    "                W[m][i, j] = 0"
   ],
   "id": "eadb1b5d7c5e4111",
   "outputs": [],
   "execution_count": 88
  },
  {
   "metadata": {
    "jupyter": {
     "is_executing": true
    },
    "ExecuteTime": {
     "start_time": "2024-09-11T15:59:03.409449Z"
    }
   },
   "cell_type": "code",
   "source": [
    "# Initialize the results array\n",
    "results = [np.zeros((num_of_time_stamps, N)) for _ in range(M)]\n",
    "\n",
    "# Solve the ODEs for all M weight matrix and corresponding initial conditions\n",
    "for m in range(M):\n",
    "    results[m] = odeint(ode_system, initial_conditions[m], t, args=(W[m],))"
   ],
   "id": "cfce80aab9beb059",
   "outputs": [],
   "execution_count": null
  },
  {
   "metadata": {
    "jupyter": {
     "is_executing": true
    }
   },
   "cell_type": "code",
   "source": [
    "# Plot the results\n",
    "for m in range(M):\n",
    "    for n in range(N):\n",
    "        plt.plot(t, results[m][:, n])\n",
    "plt.xlabel('Time')\n",
    "plt.ylabel('x value')\n",
    "plt.title('Michaelis-Menten kinetics')\n",
    "plt.show()"
   ],
   "id": "e448adc2e13f3d53",
   "outputs": [],
   "execution_count": null
  },
  {
   "metadata": {},
   "cell_type": "markdown",
   "source": "# ---------",
   "id": "5c9b0f93c359b538"
  },
  {
   "metadata": {
    "jupyter": {
     "is_executing": true
    }
   },
   "cell_type": "code",
   "source": [
    "# initial state\n",
    "results[0][0, :]"
   ],
   "id": "e1085715946c36d0",
   "outputs": [],
   "execution_count": null
  },
  {
   "metadata": {
    "jupyter": {
     "is_executing": true
    }
   },
   "cell_type": "code",
   "source": [
    "final_state = [np.random.rand(N) for _ in range(N)]\n",
    "# final state\n",
    "for m in range(M):\n",
    "    final_state[m] = results[m][-1, :]"
   ],
   "id": "fb9362171baed38e",
   "outputs": [],
   "execution_count": null
  },
  {
   "metadata": {
    "jupyter": {
     "is_executing": true
    }
   },
   "cell_type": "code",
   "source": [
    "# Calculate the variance of the final state\n",
    "final_state_variance = np.var(final_state)\n",
    "print(final_state_variance)"
   ],
   "id": "7f49274c7e8869f8",
   "outputs": [],
   "execution_count": null
  },
  {
   "metadata": {
    "jupyter": {
     "is_executing": true
    }
   },
   "cell_type": "code",
   "source": [
    "# W2_variance = np.var(W_strong_influence)\n",
    "# print(W_strong_influence)"
   ],
   "id": "ba5fca2bd453048",
   "outputs": [],
   "execution_count": null
  },
  {
   "metadata": {
    "jupyter": {
     "is_executing": true
    }
   },
   "cell_type": "code",
   "source": [
    "# Save the final state vector to a csv file\n",
    "# np.savetxt('final_state.csv', final_state, delimiter=',')"
   ],
   "id": "1bfc9999174e3e02",
   "outputs": [],
   "execution_count": null
  }
 ],
 "metadata": {
  "kernelspec": {
   "display_name": "Python 3",
   "language": "python",
   "name": "python3"
  },
  "language_info": {
   "codemirror_mode": {
    "name": "ipython",
    "version": 2
   },
   "file_extension": ".py",
   "mimetype": "text/x-python",
   "name": "python",
   "nbconvert_exporter": "python",
   "pygments_lexer": "ipython2",
   "version": "2.7.6"
  }
 },
 "nbformat": 4,
 "nbformat_minor": 5
}
