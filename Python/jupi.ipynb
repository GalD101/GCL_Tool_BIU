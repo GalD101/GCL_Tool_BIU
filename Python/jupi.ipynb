{
 "cells": [
  {
   "cell_type": "code",
   "execution_count": 3,
   "metadata": {},
   "outputs": [
    {
     "data": {
      "text/plain": "<Figure size 432x288 with 1 Axes>",
      "image/png": "[encoded data removed]"
     },
     "metadata": {
      "needs_background": "light"
     },
     "output_type": "display_data"
    },
    {
     "name": "stdout",
     "output_type": "stream",
     "text": [
      "done\n"
     ]
    }
   ],
   "source": [
    "'''\n",
    "Example 1:\n",
    "Run the GCL program with bootsrtap on two files\n",
    "'''\n",
    "import GCL\n",
    "files = ['old.csv', 'young.csv']\n",
    "divisions = 100\n",
    "percentage = 0.5\n",
    "task = 'bootStrap'\n",
    "GCL.main_gcl_start(files, divisions, percentage, task)\n",
    "print('done')"
   ]
  },
  {
   "cell_type": "code",
   "execution_count": 4,
   "outputs": [
    {
     "data": {
      "text/plain": "<Figure size 432x288 with 1 Axes>",
      "image/png": "[encoded data removed]"
     },
     "metadata": {
      "needs_background": "light"
     },
     "output_type": "display_data"
    },
    {
     "name": "stdout",
     "output_type": "stream",
     "text": [
      "done\n"
     ]
    }
   ],
   "source": [
    "'''\n",
    "Example 2:\n",
    "Run the GCL program with regular_gcl on a single file (none bootsrap)\n",
    "'''\n",
    "import GCL\n",
    "files = ['old.csv']\n",
    "divisions = 100\n",
    "percentage = 0.5\n",
    "task = 'regular_GCL'\n",
    "GCL.main_gcl_start(files, divisions, percentage, task)\n",
    "print('done')"
   ],
   "metadata": {
    "collapsed": false,
    "pycharm": {
     "name": "#%%\n"
    }
   }
  },
  {
   "cell_type": "code",
   "execution_count": 2,
   "metadata": {
    "pycharm": {
     "name": "#%%\n"
    }
   },
   "outputs": [
    {
     "name": "stdout",
     "output_type": "stream",
     "text": [
      "reloaded successfully!\n"
     ]
    }
   ],
   "source": [
    "'''\n",
    "When changes are done in GCL.py - run this module to reload the import.\n",
    "'''\n",
    "import GCL\n",
    "from importlib import reload\n",
    "\n",
    "reload(GCL)\n",
    "print('reloaded successfully!')"
   ]
  }
 ],
 "metadata": {
  "kernelspec": {
   "display_name": "Python 3 (ipykernel)",
   "language": "python",
   "name": "python3"
  },
  "language_info": {
   "codemirror_mode": {
    "name": "ipython",
    "version": 3
   },
   "file_extension": ".py",
   "mimetype": "text/x-python",
   "name": "python",
   "nbconvert_exporter": "python",
   "pygments_lexer": "ipython3",
   "version": "3.9.1"
  }
 },
 "nbformat": 4,
 "nbformat_minor": 1
}